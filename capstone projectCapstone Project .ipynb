import pandas as pd

In [3]:

df = pd.read_csv('Data-Collisions.csv')

C:\Users\62822\Anaconda3\lib\site-packages\IPython\core\interactiveshell.py:3063: DtypeWarning: Columns (33) have mixed types.Specify dtype option on import or set low_memory=False.
  interactivity=interactivity, compiler=compiler, result=result)

In [4]:

df.info()

<class 'pandas.core.frame.DataFrame'>
RangeIndex: 194673 entries, 0 to 194672
Data columns (total 38 columns):
 #   Column          Non-Null Count   Dtype  
---  ------          --------------   -----  
 0   SEVERITYCODE    194673 non-null  int64  
 1   X               189339 non-null  float64
 2   Y               189339 non-null  float64
 3   OBJECTID        194673 non-null  int64  
 4   INCKEY          194673 non-null  int64  
 5   COLDETKEY       194673 non-null  int64  
 6   REPORTNO        194673 non-null  object 
 7   STATUS          194673 non-null  object 
 8   ADDRTYPE        192747 non-null  object 
 9   INTKEY          65070 non-null   float64
 10  LOCATION        191996 non-null  object 
 11  EXCEPTRSNCODE   84811 non-null   object 
 12  EXCEPTRSNDESC   5638 non-null    object 
 13  SEVERITYCODE.1  194673 non-null  int64  
 14  SEVERITYDESC    194673 non-null  object 
 15  COLLISIONTYPE   189769 non-null  object 
 16  PERSONCOUNT     194673 non-null  int64  
 17  PEDCOUNT        194673 non-null  int64  
 18  PEDCYLCOUNT     194673 non-null  int64  
 19  VEHCOUNT        194673 non-null  int64  
 20  INCDATE         194673 non-null  object 
 21  INCDTTM         194673 non-null  object 
 22  JUNCTIONTYPE    188344 non-null  object 
 23  SDOT_COLCODE    194673 non-null  int64  
 24  SDOT_COLDESC    194673 non-null  object 
 25  INATTENTIONIND  29805 non-null   object 
 26  UNDERINFL       189789 non-null  object 
 27  WEATHER         189592 non-null  object 
 28  ROADCOND        189661 non-null  object 
 29  LIGHTCOND       189503 non-null  object 
 30  PEDROWNOTGRNT   4667 non-null    object 
 31  SDOTCOLNUM      114936 non-null  float64
 32  SPEEDING        9333 non-null    object 
 33  ST_COLCODE      194655 non-null  object 
 34  ST_COLDESC      189769 non-null  object 
 35  SEGLANEKEY      194673 non-null  int64  
 36  CROSSWALKKEY    194673 non-null  int64  
 37  HITPARKEDCAR    194673 non-null  object 
dtypes: float64(4), int64(12), object(22)
memory usage: 56.4+ MB

In [5]:

df.head()

Out[5]:
	SEVERITYCODE 	X 	Y 	OBJECTID 	INCKEY 	COLDETKEY 	REPORTNO 	STATUS 	ADDRTYPE 	INTKEY 	... 	ROADCOND 	LIGHTCOND 	PEDROWNOTGRNT 	SDOTCOLNUM 	SPEEDING 	ST_COLCODE 	ST_COLDESC 	SEGLANEKEY 	CROSSWALKKEY 	HITPARKEDCAR
0 	2 	-122.323148 	47.703140 	1 	1307 	1307 	3502005 	Matched 	Intersection 	37475.0 	... 	Wet 	Daylight 	NaN 	NaN 	NaN 	10 	Entering at angle 	0 	0 	N
1 	1 	-122.347294 	47.647172 	2 	52200 	52200 	2607959 	Matched 	Block 	NaN 	... 	Wet 	Dark - Street Lights On 	NaN 	6354039.0 	NaN 	11 	From same direction - both going straight - bo... 	0 	0 	N
2 	1 	-122.334540 	47.607871 	3 	26700 	26700 	1482393 	Matched 	Block 	NaN 	... 	Dry 	Daylight 	NaN 	4323031.0 	NaN 	32 	One parked--one moving 	0 	0 	N
3 	1 	-122.334803 	47.604803 	4 	1144 	1144 	3503937 	Matched 	Block 	NaN 	... 	Dry 	Daylight 	NaN 	NaN 	NaN 	23 	From same direction - all others 	0 	0 	N
4 	2 	-122.306426 	47.545739 	5 	17700 	17700 	1807429 	Matched 	Intersection 	34387.0 	... 	Wet 	Daylight 	NaN 	4028032.0 	NaN 	10 	Entering at angle 	0 	0 	N

5 rows × 38 columns
In [7]:

df.shape

Out[7]:

(194673, 38)

In [11]:

df.ROADCOND.isnull().sum()

Out[11]:

5012

In [12]:

df.SEVERITYCODE.value_counts()

Out[12]:

1    136485
2     58188
Name: SEVERITYCODE, dtype: int64

